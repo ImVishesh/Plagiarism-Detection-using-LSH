{
 "cells": [
  {
   "cell_type": "code",
   "execution_count": 1,
   "metadata": {
    "pycharm": {
     "name": "#%%\n"
    }
   },
   "outputs": [],
   "source": [
    "# from flask import Flask, render_template, request\n",
    "\n",
    "# app = Flask(\n",
    "#     __name__,\n",
    "#     static_url_path='',\n",
    "#     static_folder='website',\n",
    "#     template_folder=\"website\",\n",
    "#     )\n",
    "\n",
    "# @app.route('/', methods = ['GET'])\n",
    "# def index():\n",
    "#     return render_template('index.html')\n",
    "\n",
    "# @app.route('/add', methods=['POST'])\n",
    "# def add():\n",
    "#     num1 = int(request.form['num1'])\n",
    "#     num2 = int(request.form['num2'])\n",
    "#     result = num1 + num2\n",
    "#     return f'The sum of {num1} and {num2} is {result}'\n"
   ]
  },
  {
   "cell_type": "code",
   "execution_count": 2,
   "metadata": {
    "pycharm": {
     "name": "#%%\n"
    }
   },
   "outputs": [],
   "source": [
    "# if __name__ == '__main__':\n",
    "#     app.run()"
   ]
  },
  {
   "cell_type": "code",
   "execution_count": 3,
   "metadata": {
    "pycharm": {
     "name": "#%%\n"
    }
   },
   "outputs": [
    {
     "name": "stdout",
     "output_type": "stream",
     "text": [
      " * Serving Flask app '__main__'\n",
      " * Debug mode: off\n"
     ]
    },
    {
     "name": "stderr",
     "output_type": "stream",
     "text": [
      "WARNING: This is a development server. Do not use it in a production deployment. Use a production WSGI server instead.\n",
      " * Running on http://127.0.0.1:5000\n",
      "Press CTRL+C to quit\n",
      "127.0.0.1 - - [02/Apr/2023 16:44:42] \"GET /index.html?query=Hello HTTP/1.1\" 200 -\n",
      "127.0.0.1 - - [02/Apr/2023 16:44:42] \"GET /css/style.css HTTP/1.1\" 304 -\n",
      "127.0.0.1 - - [02/Apr/2023 16:44:45] \"POST /index.html?query=Hello HTTP/1.1\" 405 -\n",
      "127.0.0.1 - - [02/Apr/2023 16:46:30] \"GET /index.html?query=Hello HTTP/1.1\" 200 -\n",
      "127.0.0.1 - - [02/Apr/2023 16:46:30] \"GET /css/style.css HTTP/1.1\" 304 -\n",
      "127.0.0.1 - - [02/Apr/2023 16:46:34] \"POST /index.html?query=Hello HTTP/1.1\" 405 -\n",
      "127.0.0.1 - - [02/Apr/2023 16:46:41] \"POST /index.html?query=Hello HTTP/1.1\" 405 -\n",
      "127.0.0.1 - - [02/Apr/2023 16:47:26] \"GET /index.html?query=Hello HTTP/1.1\" 200 -\n",
      "127.0.0.1 - - [02/Apr/2023 16:47:26] \"GET /css/style.css HTTP/1.1\" 200 -\n",
      "127.0.0.1 - - [02/Apr/2023 16:47:36] \"GET /index.html?query=Hello HTTP/1.1\" 200 -\n",
      "127.0.0.1 - - [02/Apr/2023 16:47:36] \"GET /css/style.css HTTP/1.1\" 304 -\n",
      "127.0.0.1 - - [02/Apr/2023 16:47:39] \"POST /index.html?query=Hello HTTP/1.1\" 405 -\n",
      "127.0.0.1 - - [02/Apr/2023 16:48:00] \"GET /index.html?query=Hello HTTP/1.1\" 200 -\n",
      "127.0.0.1 - - [02/Apr/2023 16:48:00] \"GET /css/style.css HTTP/1.1\" 304 -\n",
      "127.0.0.1 - - [02/Apr/2023 16:48:01] \"POST /index.html?query=Hello HTTP/1.1\" 405 -\n",
      "127.0.0.1 - - [02/Apr/2023 16:48:39] \"GET /index.html?query=Hello HTTP/1.1\" 200 -\n",
      "127.0.0.1 - - [02/Apr/2023 16:48:39] \"GET /css/style.css HTTP/1.1\" 304 -\n",
      "127.0.0.1 - - [02/Apr/2023 16:48:47] \"GET /index.html HTTP/1.1\" 200 -\n",
      "127.0.0.1 - - [02/Apr/2023 16:48:47] \"GET /css/style.css HTTP/1.1\" 304 -\n",
      "127.0.0.1 - - [02/Apr/2023 16:48:51] \"POST /index.html HTTP/1.1\" 405 -\n",
      "127.0.0.1 - - [02/Apr/2023 16:48:57] \"POST /index.html HTTP/1.1\" 405 -\n",
      "127.0.0.1 - - [02/Apr/2023 16:50:34] \"POST /index.html HTTP/1.1\" 405 -\n",
      "127.0.0.1 - - [02/Apr/2023 16:50:36] \"GET /index.html HTTP/1.1\" 200 -\n",
      "127.0.0.1 - - [02/Apr/2023 16:50:36] \"GET /css/style.css HTTP/1.1\" 304 -\n",
      "127.0.0.1 - - [02/Apr/2023 16:50:39] \"POST /index.html HTTP/1.1\" 405 -\n"
     ]
    }
   ],
   "source": [
    "from flask import Flask, render_template, request\n",
    "\n",
    "app = Flask(\n",
    "    __name__,\n",
    "    static_url_path='',\n",
    "    static_folder='website',\n",
    "    template_folder=\"website\",\n",
    "    )\n",
    "\n",
    "@app.route('/', methods=['GET', 'POST'])\n",
    "def index():\n",
    "    if request.method == 'POST':\n",
    "        name = request.form['query']\n",
    "        return render_template('result.html', query=name)\n",
    "    else:\n",
    "        return render_template('index.html')\n",
    "\n",
    "if __name__ == '__main__':\n",
    "    app.run()\n"
   ]
  },
  {
   "cell_type": "code",
   "execution_count": null,
   "metadata": {
    "pycharm": {
     "name": "#%%\n"
    }
   },
   "outputs": [],
   "source": []
  }
 ],
 "metadata": {
  "kernelspec": {
   "display_name": "IRAssignment",
   "language": "python",
   "name": "python3"
  },
  "language_info": {
   "codemirror_mode": {
    "name": "ipython",
    "version": 3
   },
   "file_extension": ".py",
   "mimetype": "text/x-python",
   "name": "python",
   "nbconvert_exporter": "python",
   "pygments_lexer": "ipython3",
   "version": "3.9.16"
  },
  "orig_nbformat": 4
 },
 "nbformat": 4,
 "nbformat_minor": 2
}